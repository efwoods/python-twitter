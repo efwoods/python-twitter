{
 "cells": [
  {
   "cell_type": "code",
   "execution_count": 7,
   "metadata": {},
   "outputs": [
    {
     "ename": "ModuleNotFoundError",
     "evalue": "No module named 'authlib'",
     "output_type": "error",
     "traceback": [
      "\u001b[0;31m---------------------------------------------------------------------------\u001b[0m",
      "\u001b[0;31mModuleNotFoundError\u001b[0m                       Traceback (most recent call last)",
      "Cell \u001b[0;32mIn [7], line 1\u001b[0m\n\u001b[0;32m----> 1\u001b[0m \u001b[39mfrom\u001b[39;00m \u001b[39mpytwitter\u001b[39;00m \u001b[39mimport\u001b[39;00m Api\n\u001b[1;32m      3\u001b[0m api \u001b[39m=\u001b[39m Api(bearer_token\u001b[39m=\u001b[39m\u001b[39m\"\u001b[39m\u001b[39mAAAAAAAAAAAAAAAAAAAAAJ7giAEAAAAADHNyCGawS9CGZkaAPth6iCckoOA\u001b[39m\u001b[39m%\u001b[39m\u001b[39m3DPevgsXSXE5fCS5ZpFulw0uAbWOXdLHL9D4Rh6ggJPFygLsEUEg\u001b[39m\u001b[39m\"\u001b[39m)\n",
      "File \u001b[0;32m~/Documents/GitHub/python-twitter/pytwitter/__init__.py:3\u001b[0m\n\u001b[1;32m      1\u001b[0m __version__ \u001b[39m=\u001b[39m \u001b[39m\"\u001b[39m\u001b[39m0.8.0\u001b[39m\u001b[39m\"\u001b[39m\n\u001b[0;32m----> 3\u001b[0m \u001b[39mfrom\u001b[39;00m \u001b[39m.\u001b[39;00m\u001b[39mapi\u001b[39;00m \u001b[39mimport\u001b[39;00m Api\n\u001b[1;32m      4\u001b[0m \u001b[39mfrom\u001b[39;00m \u001b[39m.\u001b[39;00m\u001b[39mstreaming\u001b[39;00m \u001b[39mimport\u001b[39;00m StreamApi\n\u001b[1;32m      5\u001b[0m \u001b[39mfrom\u001b[39;00m \u001b[39m.\u001b[39;00m\u001b[39mrate_limit\u001b[39;00m \u001b[39mimport\u001b[39;00m RateLimit, RateLimitData\n",
      "File \u001b[0;32m~/Documents/GitHub/python-twitter/pytwitter/api.py:13\u001b[0m\n\u001b[1;32m     11\u001b[0m \u001b[39mimport\u001b[39;00m \u001b[39mrequests\u001b[39;00m\n\u001b[1;32m     12\u001b[0m \u001b[39mfrom\u001b[39;00m \u001b[39mrequests\u001b[39;00m\u001b[39m.\u001b[39;00m\u001b[39mmodels\u001b[39;00m \u001b[39mimport\u001b[39;00m Response\n\u001b[0;32m---> 13\u001b[0m \u001b[39mfrom\u001b[39;00m \u001b[39mauthlib\u001b[39;00m\u001b[39m.\u001b[39;00m\u001b[39mintegrations\u001b[39;00m\u001b[39m.\u001b[39;00m\u001b[39mrequests_client\u001b[39;00m \u001b[39mimport\u001b[39;00m (\n\u001b[1;32m     14\u001b[0m     OAuth2Session,\n\u001b[1;32m     15\u001b[0m     OAuth2Auth,\n\u001b[1;32m     16\u001b[0m     OAuth1Auth,\n\u001b[1;32m     17\u001b[0m     OAuth1Session,\n\u001b[1;32m     18\u001b[0m )\n\u001b[1;32m     20\u001b[0m \u001b[39mimport\u001b[39;00m \u001b[39mpytwitter\u001b[39;00m\u001b[39m.\u001b[39;00m\u001b[39mmodels\u001b[39;00m \u001b[39mas\u001b[39;00m \u001b[39mmd\u001b[39;00m\n\u001b[1;32m     21\u001b[0m \u001b[39mfrom\u001b[39;00m \u001b[39mpytwitter\u001b[39;00m\u001b[39m.\u001b[39;00m\u001b[39merror\u001b[39;00m \u001b[39mimport\u001b[39;00m PyTwitterError\n",
      "\u001b[0;31mModuleNotFoundError\u001b[0m: No module named 'authlib'"
     ]
    }
   ],
   "source": [
    "from pytwitter import Api\n",
    "\n",
    "api = Api(bearer_token=\"\")\n"
   ]
  },
  {
   "cell_type": "code",
   "execution_count": 4,
   "metadata": {},
   "outputs": [
    {
     "ename": "NameError",
     "evalue": "name 'Api' is not defined",
     "output_type": "error",
     "traceback": [
      "\u001b[0;31m---------------------------------------------------------------------------\u001b[0m",
      "\u001b[0;31mNameError\u001b[0m                                 Traceback (most recent call last)",
      "Cell \u001b[0;32mIn [4], line 1\u001b[0m\n\u001b[0;32m----> 1\u001b[0m api \u001b[39m=\u001b[39m Api(client_id\u001b[39m=\u001b[39m\u001b[39m\"\u001b[39m\u001b[39mWEd1WlVSWVZnNzB3b1lIWUZvOVc6MTpjaQ\u001b[39m\u001b[39m\"\u001b[39m, oauth_flow\u001b[39m=\u001b[39m\u001b[39mTrue\u001b[39;00m)\n\u001b[1;32m      2\u001b[0m \u001b[39m# get the url and code verifier for user to authorize\u001b[39;00m\n\u001b[1;32m      3\u001b[0m url, code_verifier, _ \u001b[39m=\u001b[39m api\u001b[39m.\u001b[39mget_oauth2_authorize_url()\n",
      "\u001b[0;31mNameError\u001b[0m: name 'Api' is not defined"
     ]
    }
   ],
   "source": [
    "api = Api(client_id=\"WEd1WlVSWVZnNzB3b1lIWUZvOVc6MTpjaQ\", oauth_flow=True)\n",
    "# get the url and code verifier for user to authorize\n",
    "url, code_verifier, _ = api.get_oauth2_authorize_url()\n",
    "# copy the response url\n",
    "api.generate_oauth2_access_token(\"https://localhost/?state=state&code=code\", code_verifier)\n",
    "{'token_type': 'bearer',\n",
    " 'expires_in': 7200,\n",
    " 'access_token': 'access_token',\n",
    " 'scope': 'users.read tweet.read',\n",
    " 'expires_at': 1631775928}"
   ]
  }
 ],
 "metadata": {
  "kernelspec": {
   "display_name": "Python 3",
   "language": "python",
   "name": "python3"
  },
  "language_info": {
   "codemirror_mode": {
    "name": "ipython",
    "version": 3
   },
   "file_extension": ".py",
   "mimetype": "text/x-python",
   "name": "python",
   "nbconvert_exporter": "python",
   "pygments_lexer": "ipython3",
   "version": "3.10.8"
  },
  "orig_nbformat": 4,
  "vscode": {
   "interpreter": {
    "hash": "b0fa6594d8f4cbf19f97940f81e996739fb7646882a419484c72d19e05852a7e"
   }
  }
 },
 "nbformat": 4,
 "nbformat_minor": 2
}
